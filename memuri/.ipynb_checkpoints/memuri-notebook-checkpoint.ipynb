{
 "metadata": {
  "name": ""
 },
 "nbformat": 3,
 "nbformat_minor": 0,
 "worksheets": [
  {
   "cells": [
    {
     "cell_type": "markdown",
     "metadata": {},
     "source": [
      "A notebook for me to play with Memuri and learn."
     ]
    },
    {
     "cell_type": "code",
     "collapsed": false,
     "input": [
      "from bookmarks.models import Bookmark\n",
      "bookmarks = Bookmark.public.all()\n",
      "print bookmarks"
     ],
     "language": "python",
     "metadata": {},
     "outputs": [
      {
       "output_type": "stream",
       "stream": "stderr",
       "text": [
        "DEBUG:django.db.backends:(0.000) SELECT \"bookmarks_bookmark\".\"id\", \"bookmarks_bookmark\".\"url\", \"bookmarks_bookmark\".\"title\", \"bookmarks_bookmark\".\"description\", \"bookmarks_bookmark\".\"is_public\", \"bookmarks_bookmark\".\"date_created\", \"bookmarks_bookmark\".\"date_updated\", \"bookmarks_bookmark\".\"owner_id\" FROM \"bookmarks_bookmark\" WHERE \"bookmarks_bookmark\".\"is_public\" = true  ORDER BY \"bookmarks_bookmark\".\"date_created\" DESC LIMIT 21; args=(True,)\n"
       ]
      },
      {
       "output_type": "stream",
       "stream": "stdout",
       "text": [
        "[<Bookmark: Knitatoms (http://knitatoms.net/)>, <Bookmark: Keybits (http://keybits.net/)>]\n"
       ]
      }
     ],
     "prompt_number": 5
    },
    {
     "cell_type": "code",
     "collapsed": false,
     "input": [
      "bookmarks2 = Bookmark.public.filter(owner__username=\"minktoast\")\n",
      "print bookmarks2"
     ],
     "language": "python",
     "metadata": {},
     "outputs": [
      {
       "output_type": "stream",
       "stream": "stderr",
       "text": [
        "DEBUG:django.db.backends:(0.006) SELECT \"bookmarks_bookmark\".\"id\", \"bookmarks_bookmark\".\"url\", \"bookmarks_bookmark\".\"title\", \"bookmarks_bookmark\".\"description\", \"bookmarks_bookmark\".\"is_public\", \"bookmarks_bookmark\".\"date_created\", \"bookmarks_bookmark\".\"date_updated\", \"bookmarks_bookmark\".\"owner_id\" FROM \"bookmarks_bookmark\" INNER JOIN \"users_user\" ON ( \"bookmarks_bookmark\".\"owner_id\" = \"users_user\".\"id\" ) WHERE (\"bookmarks_bookmark\".\"is_public\" = true  AND \"users_user\".\"username\" = 'minktoast' ) ORDER BY \"bookmarks_bookmark\".\"date_created\" DESC LIMIT 21; args=(True, 'minktoast')\n"
       ]
      },
      {
       "output_type": "stream",
       "stream": "stdout",
       "text": [
        "[<Bookmark: Knitatoms (http://knitatoms.net/)>, <Bookmark: Keybits (http://keybits.net/)>]\n"
       ]
      }
     ],
     "prompt_number": 10
    }
   ],
   "metadata": {}
  }
 ]
}